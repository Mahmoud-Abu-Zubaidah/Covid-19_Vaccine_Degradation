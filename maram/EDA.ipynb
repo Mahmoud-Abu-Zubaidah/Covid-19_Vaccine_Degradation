{
  "nbformat": 4,
  "nbformat_minor": 0,
  "metadata": {
    "colab": {
      "private_outputs": true,
      "provenance": []
    },
    "kernelspec": {
      "name": "python3",
      "display_name": "Python 3"
    },
    "language_info": {
      "name": "python"
    }
  },
  "cells": [
    {
      "cell_type": "markdown",
      "source": [
        "# COVID-19 mRNA Vaccine Degradation (EDA)"
      ],
      "metadata": {
        "id": "Z_z-X2zJWJR7"
      }
    },
    {
      "cell_type": "markdown",
      "source": [
        "## Import Libraries"
      ],
      "metadata": {
        "id": "sjgQ7-WUWPGw"
      }
    },
    {
      "cell_type": "code",
      "execution_count": null,
      "metadata": {
        "id": "_21e1giuU2N5"
      },
      "outputs": [],
      "source": [
        "import pandas as pd\n",
        "import numpy as np\n",
        "import matplotlib.pyplot as plt\n",
        "import seaborn as sns\n",
        "from sklearn.model_selection import train_test_split\n",
        "from sklearn.preprocessing import OneHotEncoder\n",
        "from sklearn.impute import SimpleImputer\n",
        "from sklearn.linear_model import LinearRegression\n",
        "from sklearn.metrics import mean_absolute_error, mean_squared_error, r2_score\n"
      ]
    },
    {
      "cell_type": "markdown",
      "source": [
        "## Data"
      ],
      "metadata": {
        "id": "bkLn1K0EWdKA"
      }
    },
    {
      "cell_type": "markdown",
      "source": [
        "### Load Data"
      ],
      "metadata": {
        "id": "xfUeOQYEWfZ_"
      }
    },
    {
      "cell_type": "code",
      "source": [
        "train_data = pd.read_csv(\"/content/drive/MyDrive/covid-19/train.csv\")\n",
        "test_data = pd.read_csv(\"/content/drive/MyDrive/covid-19/test.csv\")"
      ],
      "metadata": {
        "id": "jljeugbpWaZ6"
      },
      "execution_count": null,
      "outputs": []
    },
    {
      "cell_type": "markdown",
      "source": [
        "### Data Overview\n",
        "\n"
      ],
      "metadata": {
        "id": "LskKseg0XGZf"
      }
    },
    {
      "cell_type": "code",
      "source": [
        "train_data.head()"
      ],
      "metadata": {
        "id": "67FmT0fiXEw6"
      },
      "execution_count": null,
      "outputs": []
    },
    {
      "cell_type": "code",
      "source": [
        "train_data.info()"
      ],
      "metadata": {
        "id": "PTKyYJcZXNjv"
      },
      "execution_count": null,
      "outputs": []
    },
    {
      "cell_type": "code",
      "source": [
        "train_data.isnull().sum()"
      ],
      "metadata": {
        "id": "q-kHrYWEXavW"
      },
      "execution_count": null,
      "outputs": []
    },
    {
      "cell_type": "code",
      "source": [
        "test_data.isnull().sum()"
      ],
      "metadata": {
        "id": "543NXrlOX57k"
      },
      "execution_count": null,
      "outputs": []
    },
    {
      "cell_type": "code",
      "source": [
        "train_data.describe()"
      ],
      "metadata": {
        "id": "Z7UpnGarYHEQ"
      },
      "execution_count": null,
      "outputs": []
    },
    {
      "cell_type": "code",
      "source": [
        "train_data.drop('id', axis=1, inplace=True)\n",
        "train_data.drop('id_seqpos', axis=1, inplace=True)\n",
        "test_data.drop('id', axis=1, inplace=True)\n",
        "test_data.drop('id_seqpos', axis=1, inplace=True)"
      ],
      "metadata": {
        "id": "_afPKv6K8Xtj"
      },
      "execution_count": null,
      "outputs": []
    },
    {
      "cell_type": "code",
      "source": [
        "# Histograms for numerical features\n",
        "num_cols = train_data.select_dtypes(include=['float64']).columns\n",
        "for col in num_cols:\n",
        "    plt.figure(figsize=(8, 4))\n",
        "    sns.histplot(data=train_data, x=col, bins=30, kde=True)\n",
        "    plt.xlabel(col)\n",
        "    plt.ylabel('Count')\n",
        "    plt.title(f'Distribution of {col}')\n",
        "    plt.show()"
      ],
      "metadata": {
        "id": "6TLUjdnTX-6o"
      },
      "execution_count": null,
      "outputs": []
    },
    {
      "cell_type": "markdown",
      "source": [
        "### Categorical Features"
      ],
      "metadata": {
        "id": "8rpPg8WdhGPL"
      }
    },
    {
      "cell_type": "code",
      "source": [
        "# Explore categorical columns\n",
        "cat_cols = train_data.select_dtypes(include=['object']).columns\n",
        "\n",
        "for col in cat_cols:\n",
        "    plt.figure(figsize=(10, 5))\n",
        "    sns.countplot(data=train_data, x=col, order=train_data[col].value_counts().index)\n",
        "    plt.xticks(rotation=45)\n",
        "    plt.xlabel(col)\n",
        "    plt.ylabel('Count')\n",
        "    plt.title(f'Counts of {col}')\n",
        "    plt.show()"
      ],
      "metadata": {
        "id": "fd7X4a99Yht6"
      },
      "execution_count": null,
      "outputs": []
    },
    {
      "cell_type": "markdown",
      "source": [
        "### Correlation Analysis"
      ],
      "metadata": {
        "id": "kaVCiS01jRXP"
      }
    },
    {
      "cell_type": "code",
      "source": [
        "# Correlation matrix\n",
        "correlation_matrix = train_data[num_cols].corr()\n",
        "\n",
        "# Heatmap\n",
        "plt.figure(figsize=(10, 8))\n",
        "sns.heatmap(correlation_matrix, annot=True, cmap='coolwarm', fmt=\".2f\")\n",
        "plt.title('Correlation Heatmap')\n",
        "plt.show()\n"
      ],
      "metadata": {
        "id": "mWtFAYyJhPmS"
      },
      "execution_count": null,
      "outputs": []
    },
    {
      "cell_type": "markdown",
      "source": [
        "### Box Plots"
      ],
      "metadata": {
        "id": "5K3DdYdpjdQ-"
      }
    },
    {
      "cell_type": "code",
      "source": [
        "# Box plots for numerical features\n",
        "for col in num_cols:\n",
        "    plt.figure(figsize=(8, 4))\n",
        "    sns.boxplot(data=train_data, x=col)\n",
        "    plt.xlabel(col)\n",
        "    plt.title(f'Box Plot of {col}')\n",
        "    plt.show()"
      ],
      "metadata": {
        "id": "K7Tv7IE8jYG1"
      },
      "execution_count": null,
      "outputs": []
    },
    {
      "cell_type": "markdown",
      "source": [
        "### Feature Relationships"
      ],
      "metadata": {
        "id": "Mqt3Fpz0kEKD"
      }
    },
    {
      "cell_type": "code",
      "source": [
        "# Violin plots or bar plots for numerical vs. categorical features\n",
        "for cat_col in cat_cols:\n",
        "    plt.figure(figsize=(10, 5))\n",
        "    sns.violinplot(data=train_data, x=cat_col, y='reactivity')\n",
        "    plt.xticks(rotation=45)\n",
        "    plt.xlabel(cat_col)\n",
        "    plt.ylabel('Reactivity')\n",
        "    plt.title(f'Reactivity vs. {cat_col}')\n",
        "    plt.show()\n"
      ],
      "metadata": {
        "id": "b_1QSaTJkE_I"
      },
      "execution_count": null,
      "outputs": []
    }
  ]
}